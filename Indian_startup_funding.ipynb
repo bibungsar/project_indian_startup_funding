{
 "cells": [
  {
   "cell_type": "code",
   "execution_count": null,
   "id": "41d5097f",
   "metadata": {},
   "outputs": [],
   "source": [
    "import os\n",
    "import string\n",
    "import datetime\n",
    "import numpy as np\n",
    "import pandas as pd\n",
    "\n",
    "import matplotlib.pyplot as plt\n",
    "import seaborn as sns\n",
    "color = sns.color_palette()\n",
    "\n",
    "from plotly import tools\n",
    "import plotly.offline as py\n",
    "py.init_notebook_mode()\n",
    "import plotly.graph_objs as go\n",
    "import plotly.express as px\n",
    "\n",
    "pd.options.mode.chained_assignment = None\n",
    "pd.options.display.max_columns = 999"
   ]
  },
  {
   "cell_type": "code",
   "execution_count": null,
   "id": "d2737c86",
   "metadata": {},
   "outputs": [],
   "source": [
    "df=pd.read_csv('startup_funding.csv')"
   ]
  },
  {
   "cell_type": "code",
   "execution_count": null,
   "id": "c2c77fd2",
   "metadata": {},
   "outputs": [],
   "source": [
    "df.head(2)"
   ]
  },
  {
   "cell_type": "code",
   "execution_count": null,
   "id": "118a0412",
   "metadata": {},
   "outputs": [],
   "source": [
    "df.columns"
   ]
  },
  {
   "cell_type": "code",
   "execution_count": null,
   "id": "f1c4fb4f",
   "metadata": {},
   "outputs": [],
   "source": [
    "df.columns = [\"SNo\", \"Date\", \"StartupName\", \"IndustryVertical\", \"SubVertical\", \"City\", \"InvestorsName\", \"InvestmentType\", \"AmountInUSD\", \"Remarks\"]"
   ]
  },
  {
   "cell_type": "code",
   "execution_count": null,
   "id": "c8ed34d2",
   "metadata": {},
   "outputs": [],
   "source": [
    "df.tail(2)"
   ]
  },
  {
   "cell_type": "code",
   "execution_count": null,
   "id": "60777852",
   "metadata": {},
   "outputs": [],
   "source": [
    "def clean_string(x):\n",
    "    return str(x).replace(\"\\\\xc2\\\\xa0\",\"\").replace(\"\\\\\\\\xc2\\\\\\\\xa0\", \"\")\n",
    "\n",
    "for col in [\"StartupName\", \"IndustryVertical\", \"SubVertical\", \"City\", \"InvestorsName\", \"InvestmentType\", \"AmountInUSD\", \"Remarks\"]:\n",
    "    df[col] = df[col].apply(lambda x: clean_string(x))"
   ]
  },
  {
   "cell_type": "code",
   "execution_count": null,
   "id": "71dcf5bd",
   "metadata": {},
   "outputs": [],
   "source": [
    "df.info()"
   ]
  },
  {
   "cell_type": "code",
   "execution_count": null,
   "id": "40e22c80",
   "metadata": {},
   "outputs": [],
   "source": [
    "df['Date'][df['Date']=='01/07/015'] = '01/07/2015'\n",
    "df['Date'][df['Date']=='\\\\\\\\xc2\\\\\\\\xa010/7/2015'] = '10/07/2015'\n",
    "df['Date'][df['Date']=='12/05.2015'] = '12/05/2015'\n",
    "df['Date'][df['Date']=='13/04.2015'] = '13/04/2015'\n",
    "df['Date'][df['Date']=='15/01.2015'] = '15/01/2015'\n",
    "df['Date'][df['Date']=='22/01//2015'] = '22/01/2015'\n",
    "df['Date'][df['Date']=='05/072018'] = '05/07/2018'"
   ]
  },
  {
   "cell_type": "code",
   "execution_count": null,
   "id": "3fe35f37",
   "metadata": {},
   "outputs": [],
   "source": [
    "df[\"year\"] = pd.to_datetime(df['Date'],format='%d/%m/%Y').dt.year"
   ]
  },
  {
   "cell_type": "code",
   "execution_count": null,
   "id": "d6596e08",
   "metadata": {},
   "outputs": [],
   "source": [
    "df[\"yearmonth\"] = (pd.to_datetime(df['Date'],format='%d/%m/%Y').dt.year*100)+(pd.to_datetime(df['Date'],format='%d/%m/%Y').dt.month)"
   ]
  },
  {
   "cell_type": "code",
   "execution_count": null,
   "id": "de3b1f67",
   "metadata": {},
   "outputs": [],
   "source": [
    "cnt_srs = df[\"year\"].value_counts()\n",
    "cnt_srs = cnt_srs.sort_index(ascending=True)"
   ]
  },
  {
   "cell_type": "code",
   "execution_count": null,
   "id": "f5505046",
   "metadata": {},
   "outputs": [],
   "source": [
    "cnt_srs"
   ]
  },
  {
   "cell_type": "code",
   "execution_count": null,
   "id": "d74a4f1e",
   "metadata": {},
   "outputs": [],
   "source": [
    "cnt_srs = df[\"year\"].value_counts()\n",
    "cnt_srs = cnt_srs.sort_index()\n",
    "trace = go.Bar(\n",
    "    x=cnt_srs.index,\n",
    "    y=cnt_srs.values,\n",
    "    marker=dict(\n",
    "        color=\"#1E90FF\",\n",
    "    ),\n",
    ")\n",
    "\n",
    "layout = go.Layout(\n",
    "    title=go.layout.Title(\n",
    "        text=\"Number of funding deals over years\",\n",
    "        x=0.5\n",
    "    ),\n",
    "    font=dict(size=14),\n",
    "    width=800,\n",
    "    height=500,\n",
    ")\n",
    "\n",
    "data = [trace]\n",
    "fig = go.Figure(data=data, layout=layout)\n",
    "py.iplot(fig, filename=\"funding\")"
   ]
  },
  {
   "cell_type": "markdown",
   "id": "200a295e",
   "metadata": {},
   "source": [
    "- Years 2015 & 2016 has got more number of fundings compared to the other recent years\n",
    "- We can see a clear decling trend in the number of funding deals from 2016. "
   ]
  },
  {
   "cell_type": "code",
   "execution_count": null,
   "id": "63e186fc",
   "metadata": {
    "scrolled": false
   },
   "outputs": [],
   "source": [
    "import datetime\n",
    "df[\"yearmonth\"] = pd.to_datetime(df['Date'],format='%d/%m/%Y').apply(lambda x: datetime.date(x.year,x.month,1))\n",
    "\n",
    "cnt_srs = df[\"yearmonth\"].value_counts()\n",
    "cnt_srs = cnt_srs.sort_index()\n",
    "\n",
    "\n",
    "trace = go.Scatter(\n",
    "    x=cnt_srs.index.astype(str),\n",
    "    y=cnt_srs.values,\n",
    "    marker=dict(\n",
    "        color=\"#E53215\",\n",
    "    ),\n",
    ")\n",
    "\n",
    "layout = go.Layout(\n",
    "    title=go.layout.Title(\n",
    "        text=\"Number of funding deals - month on month\",\n",
    "        x=0.5\n",
    "    ),\n",
    "    font=dict(size=14),\n",
    "    width=800,\n",
    "    height=500,\n",
    ")\n",
    "\n",
    "data = [trace]\n",
    "fig = go.Figure(data=data, layout=layout)\n",
    "py.iplot(fig, filename=\"funding\")"
   ]
  },
  {
   "cell_type": "markdown",
   "id": "d26ff8f6",
   "metadata": {},
   "source": [
    "- We can see a steady decline here as well "
   ]
  },
  {
   "cell_type": "code",
   "execution_count": null,
   "id": "bc2acaa9",
   "metadata": {},
   "outputs": [],
   "source": [
    "df.head(2)"
   ]
  },
  {
   "cell_type": "code",
   "execution_count": null,
   "id": "ca535935",
   "metadata": {},
   "outputs": [],
   "source": [
    "def clean_amount(x):\n",
    "    #x = ''.join([c for c in str(x) if c in ['0', '1', '2', '3', '4', '5', '6', '7', '8', '9']])\n",
    "    x = str(x).replace(\",\",\"\").replace(\"+\",\"\")\n",
    "    x = str(x).lower().replace(\"unknown\",\"\")\n",
    "    x = str(x).lower().replace(\"undisclosed\",\"\")\n",
    "    x = str(x).lower().replace(\"n/a\",\"\")\n",
    "    if x == '':\n",
    "        x = '-999'\n",
    "    return x\n",
    "\n",
    "df[\"CleanedAmount\"] = df[\"AmountInUSD\"].apply(lambda x: float(clean_amount(x)))\n",
    "AmountInUSD = df[\"CleanedAmount\"]\n",
    "AmountInUSD = AmountInUSD[~np.isnan(AmountInUSD)]\n",
    "AmountInUSD = AmountInUSD[AmountInUSD!=-999]"
   ]
  },
  {
   "cell_type": "code",
   "execution_count": null,
   "id": "2b22ca2e",
   "metadata": {
    "scrolled": false
   },
   "outputs": [],
   "source": [
    "plt.figure(figsize=(8,6))\n",
    "plt.scatter(range(len(AmountInUSD)), np.sort(AmountInUSD.values), color=\"#0D60E7\")\n",
    "plt.xlabel('index', fontsize=12)\n",
    "plt.ylabel('Funding value in USD', fontsize=12)\n",
    "plt.title(\"Distribution of funding value in USD\")\n",
    "plt.show()"
   ]
  },
  {
   "cell_type": "markdown",
   "id": "257f225b",
   "metadata": {},
   "source": [
    "- There are some extreme values at the right"
   ]
  },
  {
   "cell_type": "code",
   "execution_count": null,
   "id": "b93bafae",
   "metadata": {},
   "outputs": [],
   "source": [
    "df.iloc[df['CleanedAmount'].sort_values(ascending=False).index[:10]]\n"
   ]
  },
  {
   "cell_type": "code",
   "execution_count": null,
   "id": "1028f38b",
   "metadata": {},
   "outputs": [],
   "source": [
    "df[\"CleanedAmount\"][df[\"CleanedAmount\"]==3900000000] = 50000000\n",
    "\n",
    "cnt_df = df.groupby('year')['CleanedAmount'].agg([\"sum\", \"mean\"])\n",
    "cnt_srs = cnt_df[\"sum\"]\n",
    "cnt_srs = cnt_srs.sort_index()"
   ]
  },
  {
   "cell_type": "code",
   "execution_count": null,
   "id": "1e9d2c74",
   "metadata": {},
   "outputs": [],
   "source": [
    "cnt_df"
   ]
  },
  {
   "cell_type": "code",
   "execution_count": null,
   "id": "a01a5a34",
   "metadata": {},
   "outputs": [],
   "source": [
    "trace = go.Bar(\n",
    "    x=cnt_srs.index,\n",
    "    y=cnt_srs.values,\n",
    "    marker=dict(\n",
    "        color=\"#131413\"\n",
    "    )\n",
    ")\n",
    "\n",
    "layout = go.Layout(\n",
    "    title=go.layout.Title(\n",
    "        text=\"Sum of funding value in each year\",\n",
    "        x=0.5\n",
    "    ),\n",
    "    font=dict(size=14),\n",
    "    width=800,\n",
    "    height=500\n",
    ")\n",
    "\n",
    "data = [trace]\n",
    "fig = go.Figure(data=data, layout=layout)\n",
    "py.iplot(fig, filename=\"funding\")"
   ]
  },
  {
   "cell_type": "markdown",
   "id": "540025d2",
   "metadata": {},
   "source": [
    "- Though 2016 is the year with most number of funding deals, it is the year with the 2nd lowest sum \n",
    "- 2017 has got the highest total amount of funding . Out of the 10B in 2017, 5.5B is raised by Flipkart and PayTM in 3 deals which we can see in the table above the plot."
   ]
  },
  {
   "cell_type": "code",
   "execution_count": null,
   "id": "dcd0b206",
   "metadata": {},
   "outputs": [],
   "source": [
    "cnt_srs=cnt_df['mean']\n",
    "cnt_srs=cnt_srs.sort_index()\n",
    "cnt_srs"
   ]
  },
  {
   "cell_type": "code",
   "execution_count": null,
   "id": "b03e14ed",
   "metadata": {},
   "outputs": [],
   "source": [
    "trace=go.Bar(\n",
    "    x=cnt_srs.index,    \n",
    "    y=cnt_srs.values,\n",
    "    marker=dict(\n",
    "        color='#131413'\n",
    "    )\n",
    ")\n",
    "layout=go.Layout(\n",
    "    title=go.layout.Title(\n",
    "        text='Mean of funding value in each year',\n",
    "        x=0.5\n",
    "    ),\n",
    "    font=dict(size=14),\n",
    "    width=800,\n",
    "    height=500\n",
    "\n",
    ")\n",
    "\n",
    "data=[trace]\n",
    "fig=go.Figure(data=data,layout=layout)\n",
    "py.iplot(fig,filename='funding')"
   ]
  },
  {
   "cell_type": "markdown",
   "id": "9cd1999b",
   "metadata": {},
   "source": [
    "> When it comes to the mean value of funding, 2020 leads the pack with an average of 55 Million USD. (This also raises the doubt that whether the low funding deals are not captured properly in the recent days)"
   ]
  },
  {
   "cell_type": "code",
   "execution_count": null,
   "id": "a5b0ea21",
   "metadata": {},
   "outputs": [],
   "source": [
    "import re\n",
    "import string\n",
    "PUNCT_TO_REMOVE = string.punctuation\n",
    "def remove_punctuation(text):\n",
    "    \"\"\"custom function to remove the punctuation\"\"\"\n",
    "    return text.translate(str.maketrans('', '', PUNCT_TO_REMOVE))\n",
    "df['InvestmentType'] = df['InvestmentType'].apply(lambda x: remove_punctuation(str(x)))\n"
   ]
  },
  {
   "cell_type": "code",
   "execution_count": null,
   "id": "a2785031",
   "metadata": {},
   "outputs": [],
   "source": [
    "funding_map = {\n",
    "    \"SeedAngel Funding\": \"Seed Angel Funding\",\n",
    "    \"SeedFunding\": \"Seed Funding\",\n",
    "    \"PrivateEquity\": \"Private Equity\",\n",
    "    \"Crowd funding\": \"Crowd Funding\",\n",
    "    \"Angel  Seed Funding\": \"Seed Angel Funding\",\n",
    "    \"Seed  Angel Funding\": \"Seed Angel Funding\",\n",
    "    \"Seed Angle Funding\": \"Seed Angel Funding\",\n",
    "    \"Seed  Angle Funding\": \"Seed Angel Funding\",\n",
    "    \"SeednFunding\": \"Seed Funding\",\n",
    "    \"Seed funding\": \"Seed Funding\",\n",
    "    \"Seed Round\": \"Seed Funding\",\n",
    "    \"preSeries A\": \"PreSeries A\",\n",
    "    \"preseries A\": \"PreSeries A\",\n",
    "    \"Pre Series A\": \"PreSeries A\"\n",
    "}\n",
    "\n",
    "for i, v in funding_map.items():\n",
    "    df['InvestmentType'][df['InvestmentType']==i] = v "
   ]
  },
  {
   "cell_type": "code",
   "execution_count": null,
   "id": "d879ced4",
   "metadata": {},
   "outputs": [],
   "source": [
    "cnt_srs = df['InvestmentType'].value_counts()\n",
    "cnt_srs"
   ]
  },
  {
   "cell_type": "code",
   "execution_count": null,
   "id": "fbb921d6",
   "metadata": {},
   "outputs": [],
   "source": [
    "def horizontal_bar_chart(srs, color):\n",
    "    trace = go.Bar(\n",
    "        x=srs.values[::-1],\n",
    "        y=srs.index[::-1],\n",
    "        showlegend=False,\n",
    "        orientation = 'h',\n",
    "        marker=dict(\n",
    "            color=color,\n",
    "        ),\n",
    "    )\n",
    "    return trace\n",
    "\n",
    "cnt_srs = df['InvestmentType'].value_counts()[:10]\n",
    "layout = go.Layout(\n",
    "    title=go.layout.Title(\n",
    "        text=\"Count of Investment type\",\n",
    "        x=0.5\n",
    "    ),\n",
    "    font=dict(size=14),\n",
    "    width=800,\n",
    "    height=600,\n",
    ")\n",
    "\n",
    "data = [horizontal_bar_chart(cnt_srs, \"#416DEC\")]\n",
    "fig = go.Figure(data=data, layout=layout)\n",
    "py.iplot(fig, filename=\"funding\")"
   ]
  },
  {
   "cell_type": "markdown",
   "id": "3888ea5c",
   "metadata": {},
   "source": [
    "- Seed funding tops the chart closely followed by Private Equity and seed angel funding\n",
    "- We can clearly see the decreasing number of deals as we move up the stages of funding rounds like Series A, B, C & D"
   ]
  },
  {
   "cell_type": "code",
   "execution_count": null,
   "id": "a15e8ff1",
   "metadata": {},
   "outputs": [],
   "source": [
    "cnt_df = df.groupby('InvestmentType')['CleanedAmount'].agg(['size', 'sum', 'mean'])\n",
    "cnt_df = cnt_df.sort_values(by=\"size\", ascending=False)\n",
    "cnt_df = cnt_df.iloc[:10,:]\n",
    "cnt_srs = cnt_df[\"sum\"]\n",
    "cnt_srs = cnt_srs[[\"Seed Funding\", \"Seed Angel Funding\", \"PreSeries A\", \"Series A\", \"Series B\", \"Series C\", \"Series D\", \"Private Equity\"]]"
   ]
  },
  {
   "cell_type": "code",
   "execution_count": null,
   "id": "6f883a78",
   "metadata": {},
   "outputs": [],
   "source": [
    "cnt_srs"
   ]
  },
  {
   "cell_type": "code",
   "execution_count": null,
   "id": "9e8c5ae2",
   "metadata": {},
   "outputs": [],
   "source": [
    "layout = go.Layout(\n",
    "    title=go.layout.Title(\n",
    "        text=\"Sum of investment amount by Investment Type\",\n",
    "        x=0.5\n",
    "    ),\n",
    "    font=dict(size=14),\n",
    "    width=800,\n",
    "    height=600,\n",
    ")\n",
    "\n",
    "data = [horizontal_bar_chart(cnt_srs, \"#416DEC\")]\n",
    "fig = go.Figure(data=data, layout=layout)\n",
    "py.iplot(fig, filename=\"funding\")"
   ]
  },
  {
   "cell_type": "markdown",
   "id": "fed861e6",
   "metadata": {},
   "source": [
    "- Private equity funding seems to be the one with high number of deals and the highest sum value of 26.7B raised as well\n",
    "- Though seed funding has 1388 funding deals, the sum of money raised is just about 775M since they happen during the very early stages of a startup."
   ]
  },
  {
   "cell_type": "code",
   "execution_count": null,
   "id": "002bda05",
   "metadata": {},
   "outputs": [],
   "source": [
    "cnt_srs = cnt_df[\"mean\"]\n",
    "cnt_srs = cnt_srs[[\"Seed Funding\", \"Seed Angel Funding\", \"PreSeries A\", \"Series A\", \"Series B\", \"Series C\", \"Series D\", \"Private Equity\"]]\n",
    "\n",
    "layout = go.Layout(\n",
    "    title=go.layout.Title(\n",
    "        text=\"Mean investment amount by Investment Type\",\n",
    "        x=0.5\n",
    "    ),\n",
    "    font=dict(size=14),\n",
    "    width=800,\n",
    "    height=600,\n",
    ")\n",
    "\n",
    "data = [horizontal_bar_chart(cnt_srs, \"#416DEC\")]\n",
    "fig = go.Figure(data=data, layout=layout)\n",
    "py.iplot(fig, filename=\"funding\")"
   ]
  },
  {
   "cell_type": "markdown",
   "id": "5638c417",
   "metadata": {},
   "source": [
    "- We can see a clear increase in the mean funding value as we go up the funding round ladder from Seed funding to Series D as expected."
   ]
  },
  {
   "cell_type": "code",
   "execution_count": null,
   "id": "7f1b5521",
   "metadata": {},
   "outputs": [],
   "source": [
    "cnt_srs = df['City'].value_counts()[:10]"
   ]
  },
  {
   "cell_type": "code",
   "execution_count": null,
   "id": "29934aac",
   "metadata": {
    "scrolled": false
   },
   "outputs": [],
   "source": [
    "cnt_srs"
   ]
  },
  {
   "cell_type": "code",
   "execution_count": null,
   "id": "d8792eff",
   "metadata": {},
   "outputs": [],
   "source": [
    "location_map = {\n",
    "    \"Bengaluru\": \"Bangalore\",\n",
    "    \"Delhi\": \"NCR\",\n",
    "    \"New Delhi\": \"NCR\",\n",
    "    \"Gurugram\": \"NCR\",\n",
    "    \"Gurgaon\": \"NCR\",\n",
    "    \"Noida\": \"NCR\"\n",
    "}\n",
    "for i, v in location_map.items():\n",
    "    df['City'][df['City']==i] = v \n",
    "\n",
    "def horizontal_bar_chart(srs, color):\n",
    "    trace = go.Bar(\n",
    "        x=srs.values[::-1],\n",
    "        y=srs.index[::-1],\n",
    "        showlegend=False,\n",
    "        orientation = 'h',\n",
    "        marker=dict(\n",
    "            color=color,\n",
    "        ),\n",
    "    )\n",
    "    return trace\n",
    "\n",
    "cnt_srs = df['City'].value_counts()[:14]\n",
    "layout = go.Layout(\n",
    "    title=go.layout.Title(\n",
    "        text=\"Number of funding deals in each location\",\n",
    "        x=0.5\n",
    "    ),\n",
    "    font=dict(size=14),\n",
    "    width=800,\n",
    "    height=800,\n",
    ")\n",
    "\n",
    "data = [horizontal_bar_chart(cnt_srs, \"#069DCD\")]\n",
    "fig = go.Figure(data=data, layout=layout)\n",
    "py.iplot(fig, filename=\"funding\")"
   ]
  },
  {
   "cell_type": "markdown",
   "id": "fb6bde38",
   "metadata": {},
   "source": [
    "- NCR & Bangalore are almost equal to each other with respect to number of funding deals followed by Mumbai in third place.\n",
    "- Chennai, Hyderabad & Pune are the next set of cities are that are catching up."
   ]
  },
  {
   "cell_type": "code",
   "execution_count": null,
   "id": "54c5c601",
   "metadata": {},
   "outputs": [],
   "source": [
    "cnt_df = df.groupby('City')['CleanedAmount'].agg([\"size\", \"sum\", \"mean\"])\n",
    "cnt_df = cnt_df.sort_values(by=\"size\", ascending=False)\n",
    "cnt_df = cnt_df.iloc[:10,:]\n",
    "\n",
    "cnt_srs = cnt_df['sum']\n",
    "cnt_srs = cnt_srs.sort_values(ascending=False)\n",
    "layout = go.Layout(\n",
    "    title=go.layout.Title(\n",
    "        text=\"Total funding value by location\",\n",
    "        x=0.5\n",
    "    ),\n",
    "    font=dict(size=14),\n",
    "    width=800,\n",
    "    height=800,\n",
    ")\n",
    "\n",
    "data = [horizontal_bar_chart(cnt_srs, \"#069DCD\")]\n",
    "fig = go.Figure(data=data, layout=layout)\n",
    "py.iplot(fig, filename=\"funding\")"
   ]
  },
  {
   "cell_type": "markdown",
   "id": "d7f08b72",
   "metadata": {},
   "source": [
    "- Though NCR tops the number of funding deals when it comes to the total funding value by location, Bangalore leads the way by a huge margin."
   ]
  },
  {
   "cell_type": "code",
   "execution_count": null,
   "id": "e2f74eca",
   "metadata": {},
   "outputs": [],
   "source": [
    "cnt_df = df.groupby('City')['CleanedAmount'].agg([\"size\", \"sum\", \"mean\"])\n",
    "cnt_df = cnt_df.sort_values(by=\"size\", ascending=False)\n",
    "cnt_df = cnt_df.iloc[:18,:]\n",
    "\n",
    "cnt_srs = cnt_df['mean']\n",
    "cnt_srs = cnt_srs.sort_values(ascending=False)\n",
    "layout = go.Layout(\n",
    "    title=go.layout.Title(\n",
    "        text=\"Mean funding value by location\",\n",
    "        x=0.5\n",
    "    ),\n",
    "    font=dict(size=14),\n",
    "    width=800,\n",
    "    height=800,\n",
    ")\n",
    "\n",
    "data = [horizontal_bar_chart(cnt_srs, \"#069DCD\")]\n",
    "fig = go.Figure(data=data, layout=layout)\n",
    "py.iplot(fig, filename=\"funding\")"
   ]
  },
  {
   "cell_type": "markdown",
   "id": "8f23d262",
   "metadata": {},
   "source": [
    "- Bangalore tops the list here again\n",
    "- Jaipur took the fifth spot with respect to mean funding value"
   ]
  },
  {
   "cell_type": "code",
   "execution_count": null,
   "id": "0f0c8ffb",
   "metadata": {
    "scrolled": false
   },
   "outputs": [],
   "source": [
    "temp_df = df.groupby([\"City\",\"year\"])[\"CleanedAmount\"].agg([\"size\", \"mean\"]).reset_index()\n",
    "cities_to_use = [\"Bangalore\", \"NCR\", \"Mumbai\", \"Chennai\", \"Pune\", \"Hyderabad\"]\n",
    "temp_df = temp_df[temp_df[\"City\"].isin(cities_to_use)]\n",
    "temp_df.columns = [\"City\", \"Year\", \"Count\", \"Mean\"]\n",
    "\n",
    "fig = px.scatter(temp_df, x=\"Year\", y=\"City\", color=\"City\", size=\"Count\")\n",
    "layout = go.Layout(\n",
    "    title=go.layout.Title(\n",
    "        text=\"Number of funding deals by location over time\",\n",
    "        x=0.5\n",
    "    ),\n",
    "    font=dict(size=14),\n",
    "    width=800,\n",
    "    height=600,\n",
    "    showlegend=False\n",
    ")\n",
    "fig.update_layout(layout)\n",
    "fig.show()"
   ]
  },
  {
   "cell_type": "code",
   "execution_count": null,
   "id": "30492b32",
   "metadata": {},
   "outputs": [],
   "source": [
    "temp_df = df.groupby([\"City\",\"year\"])[\"CleanedAmount\"].agg([\"size\", \"mean\"]).reset_index()\n",
    "cities_to_use = [\"Bangalore\", \"NCR\", \"Mumbai\", \"Chennai\", \"Pune\", \"Hyderabad\"]\n",
    "temp_df = temp_df[temp_df[\"City\"].isin(cities_to_use)]\n",
    "temp_df.columns = [\"City\", \"Year\", \"Count\", \"Mean\"]\n",
    "\n",
    "fig = px.scatter(temp_df, x=\"Year\", y=\"City\", color=\"City\", size=\"Mean\")\n",
    "layout = go.Layout(\n",
    "    title=go.layout.Title(\n",
    "        text=\"Mean funding Value by location over time\",\n",
    "        x=0.5\n",
    "    ),\n",
    "    font=dict(size=14),\n",
    "    width=800,\n",
    "    height=600,\n",
    "    showlegend=False\n",
    ")\n",
    "fig.update_layout(layout)\n",
    "fig.show()"
   ]
  },
  {
   "cell_type": "code",
   "execution_count": null,
   "id": "cbd6427b",
   "metadata": {},
   "outputs": [],
   "source": [
    "location_map = {\n",
    "    \"eCommerce\": \"E-Commerce\",\n",
    "    \"ECommerce\": \"E-Commerce\"\n",
    "}\n",
    "for i, v in location_map.items():\n",
    "    df['IndustryVertical'][df['IndustryVertical']==i] = v \n",
    "\n",
    "cnt_srs = df['IndustryVertical'].value_counts()[:10]\n",
    "layout = go.Layout(\n",
    "    title=go.layout.Title(\n",
    "        text=\"Number of funding deals by Industry Vertical\",\n",
    "        x=0.5\n",
    "    ),\n",
    "    font=dict(size=14),\n",
    "    width=800,\n",
    "    height=600,\n",
    ")\n",
    "\n",
    "data = [horizontal_bar_chart(cnt_srs, \"#1E90FF\")]\n",
    "fig = go.Figure(data=data, layout=layout)\n",
    "py.iplot(fig, filename=\"funding\")"
   ]
  },
  {
   "cell_type": "markdown",
   "id": "c8418c55",
   "metadata": {},
   "source": [
    "- Consumer internet got highest number of funding followed by Technolgy and E-commerce"
   ]
  },
  {
   "cell_type": "code",
   "execution_count": null,
   "id": "5a719b86",
   "metadata": {},
   "outputs": [],
   "source": [
    "temp_df = df.groupby([\"IndustryVertical\",\"year\"])[\"CleanedAmount\"].agg([\"size\", \"mean\"]).reset_index()\n",
    "values_to_use = [\"Consumer Internet\", \"Technology\", \"E-Commerce\", \"Healthcare\", \"Finance\", \"Logistics\"]\n",
    "temp_df = temp_df[temp_df[\"IndustryVertical\"].isin(values_to_use)]\n",
    "temp_df = temp_df[temp_df[\"year\"]!=2015]\n",
    "temp_df.columns = [\"IndustryVertical\", \"Year\", \"Count\", \"Mean\"]\n",
    "\n",
    "fig = px.scatter(temp_df, x=\"Year\", y=\"IndustryVertical\", color='IndustryVertical', size=\"Count\")\n",
    "layout = go.Layout(\n",
    "    title=go.layout.Title(\n",
    "        text=\"Number of funding deals by industry over time\",\n",
    "        x=0.5\n",
    "    ),\n",
    "    font=dict(size=14),\n",
    "    width=600,\n",
    "    height=600,\n",
    "    showlegend=False\n",
    ")\n",
    "fig.update_layout(layout)\n",
    "fig.show()"
   ]
  },
  {
   "cell_type": "code",
   "execution_count": null,
   "id": "47e26764",
   "metadata": {},
   "outputs": [],
   "source": [
    "temp_df = df.groupby([\"IndustryVertical\",\"year\"])[\"CleanedAmount\"].agg([\"size\", \"mean\"]).reset_index()\n",
    "values_to_use = [\"Consumer Internet\", \"Technology\", \"E-Commerce\", \"Healthcare\", \"Finance\", \"Logistics\"]\n",
    "temp_df = temp_df[temp_df[\"IndustryVertical\"].isin(values_to_use)]\n",
    "temp_df = temp_df[temp_df[\"year\"]!=2015]\n",
    "temp_df.columns = [\"IndustryVertical\", \"Year\", \"Count\", \"Mean\"]\n",
    "\n",
    "fig = px.scatter(temp_df, x=\"Year\", y=\"IndustryVertical\", color='IndustryVertical', size=\"Mean\")\n",
    "layout = go.Layout(\n",
    "    title=go.layout.Title(\n",
    "        text=\"Mean funding Values by industry over time\",\n",
    "        x=0.5\n",
    "    ),\n",
    "    font=dict(size=14),\n",
    "    width=600,\n",
    "    height=600,\n",
    "    showlegend=False\n",
    ")\n",
    "fig.update_layout(layout)\n",
    "fig.show()"
   ]
  },
  {
   "cell_type": "code",
   "execution_count": null,
   "id": "e8eee5b4",
   "metadata": {},
   "outputs": [],
   "source": [
    "df['InvestorsName'].nunique()"
   ]
  },
  {
   "cell_type": "code",
   "execution_count": null,
   "id": "d48217d2",
   "metadata": {},
   "outputs": [],
   "source": [
    "inv_names = []\n",
    "for invs in df['InvestorsName']:\n",
    "    for inv in str(invs).split(\",\"):\n",
    "        if inv != \"\":\n",
    "            inv_names.append(inv.strip().lower().replace(\" \",\"_\").replace(\"'\",\"\"))"
   ]
  },
  {
   "cell_type": "code",
   "execution_count": null,
   "id": "88807782",
   "metadata": {},
   "outputs": [],
   "source": [
    "cnt_srs = pd.Series(inv_names).value_counts()[:10]\n",
    "layout = go.Layout(\n",
    "    title=go.layout.Title(\n",
    "        text=\"Number of funding deals by Investor Name\",\n",
    "        x=0.5\n",
    "    ),\n",
    "    font=dict(size=14),\n",
    "    width=800,\n",
    "    height=600,\n",
    ")\n",
    "\n",
    "data = [horizontal_bar_chart(cnt_srs, \"#1E90FF\")]\n",
    "fig = go.Figure(data=data, layout=layout)\n",
    "py.iplot(fig, filename=\"funding\")"
   ]
  },
  {
   "cell_type": "markdown",
   "id": "b3972c45",
   "metadata": {},
   "source": [
    "- Of the disclosed investors, Sequoia capital is the major investor in Indian startups (based on count) followed by Accel partners.\n",
    "- Kalaari capital and Saif partners have 50 investments each\n",
    "- Among the individual investors, Ratan Tata leads the pack followed by Rajan Anandan."
   ]
  },
  {
   "cell_type": "code",
   "execution_count": null,
   "id": "55a2e063",
   "metadata": {},
   "outputs": [],
   "source": [
    "df.head(1)"
   ]
  },
  {
   "cell_type": "markdown",
   "id": "9ad46f4e",
   "metadata": {},
   "source": [
    "# Conclusions\n",
    "\n",
    "- There were more than 2000 new startups funded in the year between 2015-2017\n",
    "- Rapido Bike Taxi,Paytm and Flipkart were funded most\n",
    "- Top 10 investments are made through private equity\n",
    "- Swiggy and Ola Cabs  were invested by most number of investors\n",
    "- There were more than 2000 unique investors\n",
    "- Consumer internet was the top most choice for all investors.\n",
    "- Top investors funded ecommerce and consumer internet most in terms of amount.\n",
    "- Most funding came through private equity\n",
    "- Crowd funding and dept funding were less preferred by the investors\n",
    "- Seed funding was less dispersed but private equity is choosen to made large investments per startup\n",
    "- Banglore had the most average funding\n",
    "- Maximum Total funding was generated in the year 2016 and then it slowly decreased with increase in years\n",
    "- Average funding was most in 2020\n",
    "\n",
    "\n"
   ]
  },
  {
   "cell_type": "code",
   "execution_count": null,
   "id": "38ed0885",
   "metadata": {},
   "outputs": [],
   "source": []
  }
 ],
 "metadata": {
  "kernelspec": {
   "display_name": "Python 3 (ipykernel)",
   "language": "python",
   "name": "python3"
  },
  "language_info": {
   "codemirror_mode": {
    "name": "ipython",
    "version": 3
   },
   "file_extension": ".py",
   "mimetype": "text/x-python",
   "name": "python",
   "nbconvert_exporter": "python",
   "pygments_lexer": "ipython3",
   "version": "3.10.6"
  }
 },
 "nbformat": 4,
 "nbformat_minor": 5
}
